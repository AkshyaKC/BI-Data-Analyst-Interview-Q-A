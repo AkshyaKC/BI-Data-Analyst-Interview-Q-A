{
 "cells": [
  {
   "cell_type": "markdown",
   "metadata": {},
   "source": [
    "#### Q.NO.1 Create a dictionary, add elements, update a specific entry, and print the dictionary sorted by key in alphabetical order."
   ]
  },
  {
   "cell_type": "code",
   "execution_count": 1,
   "metadata": {},
   "outputs": [
    {
     "name": "stdout",
     "output_type": "stream",
     "text": [
      "{'player': 'messi', 'age': '33', 'club': 'psg', 'country': 'aregentina'}\n"
     ]
    }
   ],
   "source": [
    "python_dict={\n",
    "    \"player\": \"messi\",\n",
    "    \"age\" : \"33\",\n",
    "    \"club\" : \"psg\",\n",
    "    \"country\": \"aregentina\"\n",
    "}\n",
    "print(python_dict)"
   ]
  },
  {
   "cell_type": "code",
   "execution_count": 3,
   "metadata": {},
   "outputs": [
    {
     "name": "stdout",
     "output_type": "stream",
     "text": [
      "{'player': 'messi', 'age': '33', 'club': 'psg', 'country': 'aregentina', 'postion': 'forward'}\n"
     ]
    }
   ],
   "source": [
    "# Now adding another element i.e. another key-value pair\n",
    "python_dict['postion']=\"forward\"\n",
    "print(python_dict)"
   ]
  },
  {
   "cell_type": "code",
   "execution_count": 6,
   "metadata": {},
   "outputs": [
    {
     "data": {
      "text/plain": [
       "{'player': 'messi',\n",
       " 'age': '33',\n",
       " 'club': 'inter miami',\n",
       " 'country': 'aregentina',\n",
       " 'postion': 'forward'}"
      ]
     },
     "execution_count": 6,
     "metadata": {},
     "output_type": "execute_result"
    }
   ],
   "source": [
    "# Upating club from psg to inter miami\n",
    "python_dict['club']= \"inter miami\"\n",
    "# or can be using update() method\n",
    "python_dict.update({'club':'inter miami'})\n",
    "python_dict"
   ]
  },
  {
   "cell_type": "code",
   "execution_count": 11,
   "metadata": {},
   "outputs": [
    {
     "data": {
      "text/plain": [
       "{'age': '33',\n",
       " 'club': 'inter miami',\n",
       " 'country': 'aregentina',\n",
       " 'player': 'messi',\n",
       " 'postion': 'forward'}"
      ]
     },
     "execution_count": 11,
     "metadata": {},
     "output_type": "execute_result"
    }
   ],
   "source": [
    "python_dict_sorted=dict(sorted(python_dict.items()))\n",
    "python_dict_sorted"
   ]
  },
  {
   "cell_type": "markdown",
   "metadata": {},
   "source": [
    "#### Q.NO.2 Identify unique values from a list of numbers and print how many times each value occurs."
   ]
  },
  {
   "cell_type": "code",
   "execution_count": 2,
   "metadata": {},
   "outputs": [
    {
     "data": {
      "text/plain": [
       "[1, 2, 3, 4, 5, 6, 7, 8]"
      ]
     },
     "execution_count": 2,
     "metadata": {},
     "output_type": "execute_result"
    }
   ],
   "source": [
    "import pandas as pd\n",
    "number_list=[1,2,3,1,3,3,4,5,6,7,7,7,7,8]\n",
    "unique_numbers=list(set(number_list))\n",
    "unique_numbers"
   ]
  },
  {
   "cell_type": "code",
   "execution_count": 5,
   "metadata": {},
   "outputs": [
    {
     "name": "stdout",
     "output_type": "stream",
     "text": [
      "7    4\n",
      "3    3\n",
      "1    2\n",
      "2    1\n",
      "4    1\n",
      "5    1\n",
      "6    1\n",
      "8    1\n",
      "Name: count, dtype: int64\n"
     ]
    }
   ],
   "source": [
    "number_frequency=pd.Series(number_list).value_counts()\n",
    "print(number_frequency)"
   ]
  },
  {
   "cell_type": "markdown",
   "metadata": {},
   "source": [
    "#### Q.NO.3 Find and print the duplicate values in a list of numbers, along with their frequency."
   ]
  },
  {
   "cell_type": "code",
   "execution_count": 8,
   "metadata": {},
   "outputs": [
    {
     "data": {
      "text/plain": [
       "7    4\n",
       "3    3\n",
       "1    2\n",
       "Name: count, dtype: int64"
      ]
     },
     "execution_count": 8,
     "metadata": {},
     "output_type": "execute_result"
    }
   ],
   "source": [
    "series=pd.Series(number_list)\n",
    "duplicate_numbers=series.value_counts()[series.value_counts() > 1]\n",
    "duplicate_numbers"
   ]
  },
  {
   "cell_type": "markdown",
   "metadata": {},
   "source": [
    "In addition to the technical questions, one of the rounds focused primarily on my previous work experience and included a case study discussion."
   ]
  }
 ],
 "metadata": {
  "kernelspec": {
   "display_name": "venv",
   "language": "python",
   "name": "python3"
  },
  "language_info": {
   "codemirror_mode": {
    "name": "ipython",
    "version": 3
   },
   "file_extension": ".py",
   "mimetype": "text/x-python",
   "name": "python",
   "nbconvert_exporter": "python",
   "pygments_lexer": "ipython3",
   "version": "3.11.5"
  }
 },
 "nbformat": 4,
 "nbformat_minor": 2
}
