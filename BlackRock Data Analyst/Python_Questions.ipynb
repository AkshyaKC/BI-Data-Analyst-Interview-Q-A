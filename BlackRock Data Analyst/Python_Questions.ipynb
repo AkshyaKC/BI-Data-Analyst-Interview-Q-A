{
 "cells": [
  {
   "cell_type": "markdown",
   "metadata": {},
   "source": [
    "Data generations"
   ]
  },
  {
   "cell_type": "code",
   "execution_count": 1,
   "metadata": {},
   "outputs": [],
   "source": [
    "import pandas as pd\n",
    "import numpy as np\n",
    "from datetime import datetime\n",
    "\n",
    "# Generate Customers (100 records)\n",
    "customers = pd.DataFrame({\n",
    "    'customer_id': range(1, 101),\n",
    "    'name': [f'Customer_{i}' for i in range(1, 101)],\n",
    "    'region_id': np.random.choice([1,2,3,4,5], 100)\n",
    "})\n",
    "\n",
    "# Generate Funds (20 sample funds)\n",
    "funds = pd.DataFrame({\n",
    "    'fund_id': range(1, 21),\n",
    "    'fund_name': [f'Fund_{i}' for i in range(1, 21)],\n",
    "    'region_id': np.random.choice([1,2,3,4,5], 20),\n",
    "    'risk_category': np.random.choice(['Low','Medium','High'], 20)\n",
    "})\n",
    "\n",
    "# Generate Fund Performance (6 months daily data)\n",
    "dates = pd.date_range(start='2024-12-01', end='2025-05-31')\n",
    "fund_performance = []\n",
    "for fund_id in funds['fund_id']:\n",
    "    nav = 1000.0\n",
    "    for date in dates:\n",
    "        daily_return = np.random.normal(0.0005, 0.015)\n",
    "        nav *= (1 + daily_return)\n",
    "        fund_performance.append({\n",
    "            'fund_id': fund_id,\n",
    "            'as_of_date': date.strftime('%Y-%m-%d'),\n",
    "            'daily_return': round(daily_return, 6),\n",
    "            'net_asset_value': round(nav, 2)\n",
    "        })\n",
    "\n",
    "# Generate Transactions (10,000 records)\n",
    "transactions = pd.DataFrame({\n",
    "    'transaction_id': range(1, 10001),\n",
    "    'customer_id': np.random.choice(customers['customer_id'], 10000),\n",
    "    'fund_id': np.random.choice(funds['fund_id'], 10000),\n",
    "    'amount': np.round(np.random.lognormal(mean=7, sigma=1.5, size=10000), 2),\n",
    "    'transaction_type': np.random.choice(['BUY','SELL','DIVIDEND'], 10000, p=[0.45,0.45,0.1]),\n",
    "    'executed_at': pd.to_datetime(np.random.randint(\n",
    "        pd.Timestamp('2024-12-01').value // 10**9,\n",
    "        pd.Timestamp('2025-05-31').value // 10**9,\n",
    "        size=10000\n",
    "    ), unit='s')\n",
    "})\n",
    "\n",
    "# Generate Regions\n",
    "regions = pd.DataFrame({\n",
    "    'region_id': [1,2,3,4,5],\n",
    "    'region_name': ['North America', 'Europe', 'Asia', 'South America', 'Africa'],\n",
    "    'currency_code': ['USD', 'EUR', 'JPY', 'BRL', 'ZAR']\n",
    "})\n",
    "\n",
    "# Save to CSV files\n",
    "customers.to_csv('customers.csv', index=False)\n",
    "funds.to_csv('funds.csv', index=False)\n",
    "pd.DataFrame(fund_performance).to_csv('fund_performance.csv', index=False)\n",
    "transactions.to_csv('transactions.csv', index=False)\n",
    "regions.to_csv('regions.csv', index=False)\n"
   ]
  },
  {
   "cell_type": "markdown",
   "metadata": {},
   "source": [
    " #### 1. Write a Python function to find the second largest element in a list without using built-in sorting functions."
   ]
  },
  {
   "cell_type": "code",
   "execution_count": 36,
   "metadata": {},
   "outputs": [],
   "source": [
    "import pandas as pd\n",
    "py_list=[12,22,35,45,8,11]"
   ]
  },
  {
   "cell_type": "markdown",
   "metadata": {},
   "source": [
    " #### 2. Implement a program that takes a dictionary of funds (keys: fund names, values: returns) and returns the name of the fund with the highest return."
   ]
  },
  {
   "cell_type": "code",
   "execution_count": 35,
   "metadata": {},
   "outputs": [
    {
     "name": "stdout",
     "output_type": "stream",
     "text": [
      "Fund D\n"
     ]
    }
   ],
   "source": [
    "funds = {\n",
    "    \"Fund A\": 205,\n",
    "    \"Fund B\": 207,\n",
    "    \"Fund C\": 190,\n",
    "    \"Fund D\": 250\n",
    "}\n",
    "fund_with_highest_return=max(funds)\n",
    "print(fund_with_highest_return)"
   ]
  },
  {
   "cell_type": "markdown",
   "metadata": {},
   "source": [
    " #### 3. Write a Python script to remove duplicates from a list of client IDs while maintaining the original order."
   ]
  },
  {
   "cell_type": "code",
   "execution_count": 10,
   "metadata": {},
   "outputs": [
    {
     "data": {
      "text/plain": [
       "0    101\n",
       "1    101\n",
       "2    102\n",
       "3    102\n",
       "4    103\n",
       "5    104\n",
       "6    105\n",
       "dtype: int64"
      ]
     },
     "execution_count": 10,
     "metadata": {},
     "output_type": "execute_result"
    }
   ],
   "source": [
    "client_ids=[101,101,102,102,103,104,105]\n",
    "client_ids=pd.Series(client_ids)\n",
    "client_ids"
   ]
  },
  {
   "cell_type": "code",
   "execution_count": 16,
   "metadata": {},
   "outputs": [
    {
     "data": {
      "text/plain": [
       "0    101\n",
       "2    102\n",
       "4    103\n",
       "5    104\n",
       "6    105\n",
       "dtype: int64"
      ]
     },
     "execution_count": 16,
     "metadata": {},
     "output_type": "execute_result"
    }
   ],
   "source": [
    "client_ids.drop_duplicates()"
   ]
  },
  {
   "cell_type": "markdown",
   "metadata": {},
   "source": [
    "\n",
    " #### 4. Develop a function to merge two dictionaries containing client portfolios, summing the values of common keys (assets)."
   ]
  },
  {
   "cell_type": "code",
   "execution_count": null,
   "metadata": {},
   "outputs": [],
   "source": []
  },
  {
   "cell_type": "markdown",
   "metadata": {},
   "source": [
    " #### 5. Explain the differences between Python’s collections.defaultdict and a standard dictionary. When would you use defaultdict in financial data processing?"
   ]
  },
  {
   "cell_type": "code",
   "execution_count": null,
   "metadata": {},
   "outputs": [],
   "source": []
  },
  {
   "cell_type": "markdown",
   "metadata": {},
   "source": [
    " #### 6. Discuss how Python’s multiprocessing module can be used to improve the performance of a script analyzing high-frequency trading data."
   ]
  },
  {
   "cell_type": "code",
   "execution_count": null,
   "metadata": {},
   "outputs": [],
   "source": []
  },
  {
   "cell_type": "markdown",
   "metadata": {},
   "source": [
    " #### 7. How would you use Python’s itertools module to generate all possible portfolio combinations from a list of 10 assets? Discuss the computational challenges of such tasks."
   ]
  },
  {
   "cell_type": "code",
   "execution_count": null,
   "metadata": {},
   "outputs": [],
   "source": []
  },
  {
   "cell_type": "markdown",
   "metadata": {},
   "source": [
    " #### 8. Explain the use of Python’s decorators to log execution time and memory usage for functions processing large-scale financial data."
   ]
  },
  {
   "cell_type": "code",
   "execution_count": null,
   "metadata": {},
   "outputs": [],
   "source": []
  }
 ],
 "metadata": {
  "kernelspec": {
   "display_name": "Python 3",
   "language": "python",
   "name": "python3"
  },
  "language_info": {
   "codemirror_mode": {
    "name": "ipython",
    "version": 3
   },
   "file_extension": ".py",
   "mimetype": "text/x-python",
   "name": "python",
   "nbconvert_exporter": "python",
   "pygments_lexer": "ipython3",
   "version": "3.11.2"
  }
 },
 "nbformat": 4,
 "nbformat_minor": 2
}
