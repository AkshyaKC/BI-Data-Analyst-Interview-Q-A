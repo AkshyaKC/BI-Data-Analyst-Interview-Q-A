{
 "cells": [
  {
   "cell_type": "markdown",
   "metadata": {},
   "source": [
    "#### 1. Write a Python function to filter customers with more than 5 purchases in the last 6 months."
   ]
  },
  {
   "cell_type": "code",
   "execution_count": 19,
   "metadata": {},
   "outputs": [
    {
     "name": "stdout",
     "output_type": "stream",
     "text": [
      "<class 'pandas.core.frame.DataFrame'>\n",
      "RangeIndex: 1520 entries, 0 to 1519\n",
      "Data columns (total 4 columns):\n",
      " #   Column        Non-Null Count  Dtype  \n",
      "---  ------        --------------  -----  \n",
      " 0   customerName  1520 non-null   object \n",
      " 1   productName   1520 non-null   object \n",
      " 2   purchaseDate  1520 non-null   object \n",
      " 3   price         1520 non-null   float64\n",
      "dtypes: float64(1), object(3)\n",
      "memory usage: 47.6+ KB\n"
     ]
    }
   ],
   "source": [
    "import pandas as pd\n",
    "from datetime import datetime\n",
    "from dateutil.relativedelta import relativedelta\n",
    "\n",
    "purchases_df=pd.read_csv('./Data/electronic_sales_data.csv')\n",
    "purchases_df.info()"
   ]
  },
  {
   "cell_type": "code",
   "execution_count": 15,
   "metadata": {},
   "outputs": [
    {
     "name": "stdout",
     "output_type": "stream",
     "text": [
      "<class 'pandas.core.frame.DataFrame'>\n",
      "RangeIndex: 1520 entries, 0 to 1519\n",
      "Data columns (total 4 columns):\n",
      " #   Column        Non-Null Count  Dtype         \n",
      "---  ------        --------------  -----         \n",
      " 0   customerName  1520 non-null   object        \n",
      " 1   productName   1520 non-null   object        \n",
      " 2   purchaseDate  1520 non-null   datetime64[ns]\n",
      " 3   price         1520 non-null   float64       \n",
      "dtypes: datetime64[ns](1), float64(1), object(2)\n",
      "memory usage: 47.6+ KB\n"
     ]
    }
   ],
   "source": [
    "# Changing the data type of column purchaseDate into datetime\n",
    "purchases_df['purchaseDate']=pd.to_datetime(purchases_df['purchaseDate'])\n",
    "purchases_df.info()"
   ]
  },
  {
   "cell_type": "code",
   "execution_count": 25,
   "metadata": {},
   "outputs": [
    {
     "name": "stdout",
     "output_type": "stream",
     "text": [
      "         customerName    productName purchaseDate    price\n",
      "1      Michael Rhodes         Router   2024-07-02  1423.36\n",
      "7     Robert Peterson         Tablet   2022-04-21  1451.89\n",
      "10           Paul Lee         Laptop   2023-03-16  1293.30\n",
      "17    Robert Peterson         Laptop   2024-06-15  1602.87\n",
      "29           Paul Lee       Smart TV   2021-08-26  1036.08\n",
      "...               ...            ...          ...      ...\n",
      "1495   Barbara Maddox         Laptop   2020-11-07   647.88\n",
      "1499   Judith Oconnor       Smart TV   2021-06-11   548.76\n",
      "1506   Judith Oconnor  Graphics Card   2020-11-24    91.22\n",
      "1507  Robert Peterson          Drone   2022-02-07  1763.95\n",
      "1515   Barbara Maddox       Smart TV   2020-07-02  1838.44\n",
      "\n",
      "[239 rows x 4 columns]\n"
     ]
    }
   ],
   "source": [
    "def filter_customers(df, purchase_date_col, customer_col):\n",
    "    six_months_ago=datetime.now()-relativedelta(months=6)\n",
    "    df[purchase_date_col] = pd.to_datetime(df[purchase_date_col])\n",
    "    recent_purchases=df[df[purchase_date_col] >= six_months_ago]\n",
    "    purchase_counts=recent_purchases[customer_col].value_counts()\n",
    "\n",
    "    #get customer with more than 5 purchases\n",
    "    frequent_customers=purchase_counts[purchase_counts > 5].index\n",
    "\n",
    "    #filter the original data for these customers\n",
    "    filtered_df=df[df[customer_col].isin(frequent_customers)]\n",
    "\n",
    "    return filtered_df\n",
    "\n",
    "filtered_customer_df=filter_customers(df=purchases_df,\n",
    "                                      purchase_date_col='purchaseDate',\n",
    "                                      customer_col='customerName')\n",
    "print(filtered_customer_df)\n"
   ]
  },
  {
   "cell_type": "markdown",
   "metadata": {},
   "source": [
    "#### 2. Develop a program to read a CSV file, extract unique values from a column, and save the results in a new file."
   ]
  },
  {
   "cell_type": "code",
   "execution_count": 33,
   "metadata": {},
   "outputs": [
    {
     "name": "stdout",
     "output_type": "stream",
     "text": [
      "             customerName        productName purchaseDate    price\n",
      "0           Joyce Aguilar         Headphones    1/23/2022  1749.09\n",
      "1          Michael Rhodes             Router     7/2/2024  1423.36\n",
      "2          Cynthia Weaver              Drone     1/4/2024  1255.78\n",
      "3            Ernest Clark         Power Bank    5/20/2023  1680.43\n",
      "4            Roger Flores           Smart TV    5/26/2024  1235.64\n",
      "5         William Johnson            Monitor     2/4/2022  1513.86\n",
      "6            Jacob Malone         Smartwatch    10/6/2024  1534.29\n",
      "7         Robert Peterson             Tablet    4/21/2022  1451.89\n",
      "8          Maria Williams                SSD     7/5/2020   803.61\n",
      "9          Daniel Bonilla         Smartwatch    9/28/2020   859.15\n",
      "10               Paul Lee             Laptop    3/16/2023  1293.30\n",
      "11            Kevin Baker         Hard Drive     3/2/2021  1144.20\n",
      "13            Joshua Chan                SSD    6/23/2023    66.71\n",
      "14            Mary Rhodes             Tablet    10/6/2024   622.23\n",
      "15   Mr. Brandon Robinson            Monitor    8/21/2020  1665.85\n",
      "18    Christina Rodriguez              Mouse   12/12/2021   425.68\n",
      "20      Mr. Matthew Hayes              Drone   11/25/2022   818.92\n",
      "25          Jose Franklin                SSD   10/14/2020  1944.87\n",
      "27         Mackenzie Rice             Camera    9/26/2020  1527.72\n",
      "28        Ashley Cardenas  Bluetooth Speaker    4/24/2024   187.77\n",
      "33       Stephanie Wilson             Laptop   12/12/2021   950.37\n",
      "36       George Gallagher         Hard Drive    3/13/2021  1951.13\n",
      "37           Sara Wiggins         Hard Drive     2/5/2022  1494.60\n",
      "42         Brittany Pitts             Router    4/25/2021  1112.78\n",
      "44       Michael Gonzalez             Router    8/15/2024  1165.83\n",
      "48          Tonya Hammond             Router   10/25/2021  1008.17\n",
      "55         Judith Oconnor           Keyboard     4/5/2020  1686.60\n",
      "58       Michael Morrison           Keyboard     2/6/2020   712.12\n",
      "63          Annette Smith           Keyboard     8/1/2021  1508.72\n",
      "64       Tiffany Griffith             Camera   11/17/2022  1753.49\n",
      "65          Brent Jimenez           Smart TV    2/17/2024  1152.05\n",
      "66          Tina Williams            Monitor    10/2/2021  1278.40\n",
      "69             Evan Lloyd         Smartwatch    1/12/2020   539.27\n",
      "79           Alexis Brown            Printer   12/12/2022  1390.04\n",
      "94          Paul Martinez            Printer    12/4/2023   478.17\n",
      "117        Barbara Maddox            Printer    6/25/2024  1759.70\n",
      "162       Matthew Randall  Bluetooth Speaker    9/30/2023   256.80\n",
      "182             Beth Hill         VR Headset   11/30/2023   381.21\n"
     ]
    }
   ],
   "source": [
    "pandas_df=pd.read_csv('./Data/electronic_sales_data.csv')\n",
    "unique_values=pandas_df.drop_duplicates(subset=['customerName'])\n",
    "print(unique_values)"
   ]
  },
  {
   "cell_type": "markdown",
   "metadata": {},
   "source": [
    "#### 3. Create a Python script to visualize monthly sales trends using Matplotlib or Seaborn."
   ]
  }
 ],
 "metadata": {
  "kernelspec": {
   "display_name": "venv",
   "language": "python",
   "name": "python3"
  },
  "language_info": {
   "codemirror_mode": {
    "name": "ipython",
    "version": 3
   },
   "file_extension": ".py",
   "mimetype": "text/x-python",
   "name": "python",
   "nbconvert_exporter": "python",
   "pygments_lexer": "ipython3",
   "version": "3.11.5"
  }
 },
 "nbformat": 4,
 "nbformat_minor": 2
}
