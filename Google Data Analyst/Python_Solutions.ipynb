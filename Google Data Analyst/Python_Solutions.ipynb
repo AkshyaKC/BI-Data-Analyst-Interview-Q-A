{
 "cells": [
  {
   "cell_type": "markdown",
   "metadata": {},
   "source": [
    "1. Write a Python function to detect outliers in a dataset using the IQR method.\n"
   ]
  },
  {
   "cell_type": "code",
   "execution_count": 2,
   "metadata": {},
   "outputs": [],
   "source": [
    "import pandas as pd\n",
    "df=pd.read_csv(\"students_age.csv\")"
   ]
  },
  {
   "cell_type": "code",
   "execution_count": 3,
   "metadata": {},
   "outputs": [
    {
     "data": {
      "application/vnd.microsoft.datawrangler.viewer.v0+json": {
       "columns": [
        {
         "name": "index",
         "rawType": "object",
         "type": "string"
        },
        {
         "name": "age",
         "rawType": "float64",
         "type": "float"
        }
       ],
       "ref": "b723466c-11cc-45d1-90ef-f2852728e371",
       "rows": [
        [
         "count",
         "20.0"
        ],
        [
         "mean",
         "14.65"
        ],
        [
         "std",
         "3.1999177621011645"
        ],
        [
         "min",
         "8.0"
        ],
        [
         "25%",
         "13.75"
        ],
        [
         "50%",
         "14.0"
        ],
        [
         "75%",
         "16.0"
        ],
        [
         "max",
         "22.0"
        ]
       ],
       "shape": {
        "columns": 1,
        "rows": 8
       }
      },
      "text/html": [
       "<div>\n",
       "<style scoped>\n",
       "    .dataframe tbody tr th:only-of-type {\n",
       "        vertical-align: middle;\n",
       "    }\n",
       "\n",
       "    .dataframe tbody tr th {\n",
       "        vertical-align: top;\n",
       "    }\n",
       "\n",
       "    .dataframe thead th {\n",
       "        text-align: right;\n",
       "    }\n",
       "</style>\n",
       "<table border=\"1\" class=\"dataframe\">\n",
       "  <thead>\n",
       "    <tr style=\"text-align: right;\">\n",
       "      <th></th>\n",
       "      <th>age</th>\n",
       "    </tr>\n",
       "  </thead>\n",
       "  <tbody>\n",
       "    <tr>\n",
       "      <th>count</th>\n",
       "      <td>20.000000</td>\n",
       "    </tr>\n",
       "    <tr>\n",
       "      <th>mean</th>\n",
       "      <td>14.650000</td>\n",
       "    </tr>\n",
       "    <tr>\n",
       "      <th>std</th>\n",
       "      <td>3.199918</td>\n",
       "    </tr>\n",
       "    <tr>\n",
       "      <th>min</th>\n",
       "      <td>8.000000</td>\n",
       "    </tr>\n",
       "    <tr>\n",
       "      <th>25%</th>\n",
       "      <td>13.750000</td>\n",
       "    </tr>\n",
       "    <tr>\n",
       "      <th>50%</th>\n",
       "      <td>14.000000</td>\n",
       "    </tr>\n",
       "    <tr>\n",
       "      <th>75%</th>\n",
       "      <td>16.000000</td>\n",
       "    </tr>\n",
       "    <tr>\n",
       "      <th>max</th>\n",
       "      <td>22.000000</td>\n",
       "    </tr>\n",
       "  </tbody>\n",
       "</table>\n",
       "</div>"
      ],
      "text/plain": [
       "             age\n",
       "count  20.000000\n",
       "mean   14.650000\n",
       "std     3.199918\n",
       "min     8.000000\n",
       "25%    13.750000\n",
       "50%    14.000000\n",
       "75%    16.000000\n",
       "max    22.000000"
      ]
     },
     "execution_count": 3,
     "metadata": {},
     "output_type": "execute_result"
    }
   ],
   "source": [
    "df.describe()"
   ]
  },
  {
   "cell_type": "code",
   "execution_count": 4,
   "metadata": {},
   "outputs": [
    {
     "data": {
      "text/plain": [
       "(np.float64(13.75), np.float64(16.0))"
      ]
     },
     "execution_count": 4,
     "metadata": {},
     "output_type": "execute_result"
    }
   ],
   "source": [
    "Q1=df.age.quantile(0.25)\n",
    "Q3=df.age.quantile(0.75)\n",
    "Q1, Q3"
   ]
  },
  {
   "cell_type": "code",
   "execution_count": 5,
   "metadata": {},
   "outputs": [
    {
     "data": {
      "text/plain": [
       "np.float64(2.25)"
      ]
     },
     "execution_count": 5,
     "metadata": {},
     "output_type": "execute_result"
    }
   ],
   "source": [
    "IQR= Q3-Q1\n",
    "IQR"
   ]
  },
  {
   "cell_type": "code",
   "execution_count": null,
   "metadata": {},
   "outputs": [
    {
     "data": {
      "text/plain": [
       "(np.float64(10.375), np.float64(19.375))"
      ]
     },
     "execution_count": 9,
     "metadata": {},
     "output_type": "execute_result"
    }
   ],
   "source": [
    "Q1=df.age.quantile(0.25)\n",
    "Q3=df.age.quantile(0.75)\n",
    "\n",
    "lower_limit = Q1-1.5*IQR\n",
    "upper_limit = Q3+1.5*IQR\n",
    "\n",
    "lower_limit, upper_limit"
   ]
  },
  {
   "cell_type": "code",
   "execution_count": 10,
   "metadata": {},
   "outputs": [
    {
     "data": {
      "application/vnd.microsoft.datawrangler.viewer.v0+json": {
       "columns": [
        {
         "name": "index",
         "rawType": "int64",
         "type": "integer"
        },
        {
         "name": "student_name",
         "rawType": "object",
         "type": "string"
        },
        {
         "name": "age",
         "rawType": "int64",
         "type": "integer"
        }
       ],
       "ref": "73b9abb4-a7e8-4806-89f7-67a01fbf0c7a",
       "rows": [
        [
         "1",
         "Tricia Flores",
         "8"
        ],
        [
         "8",
         "Brent Hall",
         "20"
        ],
        [
         "12",
         "Michelle Stephenson",
         "10"
        ],
        [
         "17",
         "Sarah Mcdowell",
         "22"
        ]
       ],
       "shape": {
        "columns": 2,
        "rows": 4
       }
      },
      "text/html": [
       "<div>\n",
       "<style scoped>\n",
       "    .dataframe tbody tr th:only-of-type {\n",
       "        vertical-align: middle;\n",
       "    }\n",
       "\n",
       "    .dataframe tbody tr th {\n",
       "        vertical-align: top;\n",
       "    }\n",
       "\n",
       "    .dataframe thead th {\n",
       "        text-align: right;\n",
       "    }\n",
       "</style>\n",
       "<table border=\"1\" class=\"dataframe\">\n",
       "  <thead>\n",
       "    <tr style=\"text-align: right;\">\n",
       "      <th></th>\n",
       "      <th>student_name</th>\n",
       "      <th>age</th>\n",
       "    </tr>\n",
       "  </thead>\n",
       "  <tbody>\n",
       "    <tr>\n",
       "      <th>1</th>\n",
       "      <td>Tricia Flores</td>\n",
       "      <td>8</td>\n",
       "    </tr>\n",
       "    <tr>\n",
       "      <th>8</th>\n",
       "      <td>Brent Hall</td>\n",
       "      <td>20</td>\n",
       "    </tr>\n",
       "    <tr>\n",
       "      <th>12</th>\n",
       "      <td>Michelle Stephenson</td>\n",
       "      <td>10</td>\n",
       "    </tr>\n",
       "    <tr>\n",
       "      <th>17</th>\n",
       "      <td>Sarah Mcdowell</td>\n",
       "      <td>22</td>\n",
       "    </tr>\n",
       "  </tbody>\n",
       "</table>\n",
       "</div>"
      ],
      "text/plain": [
       "           student_name  age\n",
       "1         Tricia Flores    8\n",
       "8            Brent Hall   20\n",
       "12  Michelle Stephenson   10\n",
       "17       Sarah Mcdowell   22"
      ]
     },
     "execution_count": 10,
     "metadata": {},
     "output_type": "execute_result"
    }
   ],
   "source": [
    "# Selecting Outliers\n",
    "df[(df.age < lower_limit)|\n",
    "   (df.age > upper_limit)]"
   ]
  },
  {
   "cell_type": "code",
   "execution_count": 11,
   "metadata": {},
   "outputs": [
    {
     "data": {
      "application/vnd.microsoft.datawrangler.viewer.v0+json": {
       "columns": [
        {
         "name": "index",
         "rawType": "int64",
         "type": "integer"
        },
        {
         "name": "student_name",
         "rawType": "object",
         "type": "string"
        },
        {
         "name": "age",
         "rawType": "int64",
         "type": "integer"
        }
       ],
       "ref": "b9c7f9e8-2a9f-4fea-bb9e-98c39894e4cc",
       "rows": [
        [
         "0",
         "Diana Lambert",
         "14"
        ],
        [
         "2",
         "Kathleen Long",
         "14"
        ],
        [
         "3",
         "Gerald Medina",
         "16"
        ],
        [
         "4",
         "Cynthia Myers",
         "14"
        ],
        [
         "5",
         "Paul Young",
         "16"
        ],
        [
         "6",
         "Allison Lane",
         "14"
        ],
        [
         "7",
         "John Rivers",
         "15"
        ],
        [
         "9",
         "Brandon Butler",
         "18"
        ],
        [
         "10",
         "Natalie Schmidt",
         "13"
        ],
        [
         "11",
         "Amanda Ellis",
         "14"
        ],
        [
         "13",
         "Deborah Barnes",
         "16"
        ],
        [
         "14",
         "Eric Newman",
         "14"
        ],
        [
         "15",
         "Teresa Morris",
         "11"
        ],
        [
         "16",
         "Carla Scott",
         "16"
        ],
        [
         "18",
         "Wanda Russo",
         "16"
        ],
        [
         "19",
         "Mark Scott",
         "12"
        ]
       ],
       "shape": {
        "columns": 2,
        "rows": 16
       }
      },
      "text/html": [
       "<div>\n",
       "<style scoped>\n",
       "    .dataframe tbody tr th:only-of-type {\n",
       "        vertical-align: middle;\n",
       "    }\n",
       "\n",
       "    .dataframe tbody tr th {\n",
       "        vertical-align: top;\n",
       "    }\n",
       "\n",
       "    .dataframe thead th {\n",
       "        text-align: right;\n",
       "    }\n",
       "</style>\n",
       "<table border=\"1\" class=\"dataframe\">\n",
       "  <thead>\n",
       "    <tr style=\"text-align: right;\">\n",
       "      <th></th>\n",
       "      <th>student_name</th>\n",
       "      <th>age</th>\n",
       "    </tr>\n",
       "  </thead>\n",
       "  <tbody>\n",
       "    <tr>\n",
       "      <th>0</th>\n",
       "      <td>Diana Lambert</td>\n",
       "      <td>14</td>\n",
       "    </tr>\n",
       "    <tr>\n",
       "      <th>2</th>\n",
       "      <td>Kathleen Long</td>\n",
       "      <td>14</td>\n",
       "    </tr>\n",
       "    <tr>\n",
       "      <th>3</th>\n",
       "      <td>Gerald Medina</td>\n",
       "      <td>16</td>\n",
       "    </tr>\n",
       "    <tr>\n",
       "      <th>4</th>\n",
       "      <td>Cynthia Myers</td>\n",
       "      <td>14</td>\n",
       "    </tr>\n",
       "    <tr>\n",
       "      <th>5</th>\n",
       "      <td>Paul Young</td>\n",
       "      <td>16</td>\n",
       "    </tr>\n",
       "    <tr>\n",
       "      <th>6</th>\n",
       "      <td>Allison Lane</td>\n",
       "      <td>14</td>\n",
       "    </tr>\n",
       "    <tr>\n",
       "      <th>7</th>\n",
       "      <td>John Rivers</td>\n",
       "      <td>15</td>\n",
       "    </tr>\n",
       "    <tr>\n",
       "      <th>9</th>\n",
       "      <td>Brandon Butler</td>\n",
       "      <td>18</td>\n",
       "    </tr>\n",
       "    <tr>\n",
       "      <th>10</th>\n",
       "      <td>Natalie Schmidt</td>\n",
       "      <td>13</td>\n",
       "    </tr>\n",
       "    <tr>\n",
       "      <th>11</th>\n",
       "      <td>Amanda Ellis</td>\n",
       "      <td>14</td>\n",
       "    </tr>\n",
       "    <tr>\n",
       "      <th>13</th>\n",
       "      <td>Deborah Barnes</td>\n",
       "      <td>16</td>\n",
       "    </tr>\n",
       "    <tr>\n",
       "      <th>14</th>\n",
       "      <td>Eric Newman</td>\n",
       "      <td>14</td>\n",
       "    </tr>\n",
       "    <tr>\n",
       "      <th>15</th>\n",
       "      <td>Teresa Morris</td>\n",
       "      <td>11</td>\n",
       "    </tr>\n",
       "    <tr>\n",
       "      <th>16</th>\n",
       "      <td>Carla Scott</td>\n",
       "      <td>16</td>\n",
       "    </tr>\n",
       "    <tr>\n",
       "      <th>18</th>\n",
       "      <td>Wanda Russo</td>\n",
       "      <td>16</td>\n",
       "    </tr>\n",
       "    <tr>\n",
       "      <th>19</th>\n",
       "      <td>Mark Scott</td>\n",
       "      <td>12</td>\n",
       "    </tr>\n",
       "  </tbody>\n",
       "</table>\n",
       "</div>"
      ],
      "text/plain": [
       "       student_name  age\n",
       "0     Diana Lambert   14\n",
       "2     Kathleen Long   14\n",
       "3     Gerald Medina   16\n",
       "4     Cynthia Myers   14\n",
       "5        Paul Young   16\n",
       "6      Allison Lane   14\n",
       "7       John Rivers   15\n",
       "9    Brandon Butler   18\n",
       "10  Natalie Schmidt   13\n",
       "11     Amanda Ellis   14\n",
       "13   Deborah Barnes   16\n",
       "14      Eric Newman   14\n",
       "15    Teresa Morris   11\n",
       "16      Carla Scott   16\n",
       "18      Wanda Russo   16\n",
       "19       Mark Scott   12"
      ]
     },
     "execution_count": 11,
     "metadata": {},
     "output_type": "execute_result"
    }
   ],
   "source": [
    "# Final data after removing outliers\n",
    "df_final= df[(df.age > lower_limit)&(df.age < upper_limit)]\n",
    "df_final"
   ]
  },
  {
   "cell_type": "markdown",
   "metadata": {},
   "source": [
    "2. You have two DataFrames: clicks and installs. Merge them and calculate the install-to-click ratio per campaign."
   ]
  },
  {
   "cell_type": "code",
   "execution_count": 54,
   "metadata": {},
   "outputs": [
    {
     "data": {
      "text/html": [
       "<div>\n",
       "<style scoped>\n",
       "    .dataframe tbody tr th:only-of-type {\n",
       "        vertical-align: middle;\n",
       "    }\n",
       "\n",
       "    .dataframe tbody tr th {\n",
       "        vertical-align: top;\n",
       "    }\n",
       "\n",
       "    .dataframe thead th {\n",
       "        text-align: right;\n",
       "    }\n",
       "</style>\n",
       "<table border=\"1\" class=\"dataframe\">\n",
       "  <thead>\n",
       "    <tr style=\"text-align: right;\">\n",
       "      <th></th>\n",
       "      <th>campaign_id</th>\n",
       "      <th>click_id</th>\n",
       "      <th>user_id</th>\n",
       "      <th>click_time</th>\n",
       "    </tr>\n",
       "  </thead>\n",
       "  <tbody>\n",
       "    <tr>\n",
       "      <th>99</th>\n",
       "      <td>CAMP1001</td>\n",
       "      <td>CLK100</td>\n",
       "      <td>1044</td>\n",
       "      <td>2023-01-05 03:00:00</td>\n",
       "    </tr>\n",
       "    <tr>\n",
       "      <th>38</th>\n",
       "      <td>CAMP1001</td>\n",
       "      <td>CLK39</td>\n",
       "      <td>1010</td>\n",
       "      <td>2023-01-02 14:00:00</td>\n",
       "    </tr>\n",
       "    <tr>\n",
       "      <th>31</th>\n",
       "      <td>CAMP1001</td>\n",
       "      <td>CLK32</td>\n",
       "      <td>1070</td>\n",
       "      <td>2023-01-02 07:00:00</td>\n",
       "    </tr>\n",
       "    <tr>\n",
       "      <th>30</th>\n",
       "      <td>CAMP1001</td>\n",
       "      <td>CLK31</td>\n",
       "      <td>1088</td>\n",
       "      <td>2023-01-02 06:00:00</td>\n",
       "    </tr>\n",
       "    <tr>\n",
       "      <th>57</th>\n",
       "      <td>CAMP1001</td>\n",
       "      <td>CLK58</td>\n",
       "      <td>1036</td>\n",
       "      <td>2023-01-03 09:00:00</td>\n",
       "    </tr>\n",
       "    <tr>\n",
       "      <th>...</th>\n",
       "      <td>...</td>\n",
       "      <td>...</td>\n",
       "      <td>...</td>\n",
       "      <td>...</td>\n",
       "    </tr>\n",
       "    <tr>\n",
       "      <th>28</th>\n",
       "      <td>CAMP1004</td>\n",
       "      <td>CLK29</td>\n",
       "      <td>1044</td>\n",
       "      <td>2023-01-02 04:00:00</td>\n",
       "    </tr>\n",
       "    <tr>\n",
       "      <th>76</th>\n",
       "      <td>CAMP1004</td>\n",
       "      <td>CLK77</td>\n",
       "      <td>1089</td>\n",
       "      <td>2023-01-04 04:00:00</td>\n",
       "    </tr>\n",
       "    <tr>\n",
       "      <th>77</th>\n",
       "      <td>CAMP1004</td>\n",
       "      <td>CLK78</td>\n",
       "      <td>1041</td>\n",
       "      <td>2023-01-04 05:00:00</td>\n",
       "    </tr>\n",
       "    <tr>\n",
       "      <th>18</th>\n",
       "      <td>CAMP1004</td>\n",
       "      <td>CLK19</td>\n",
       "      <td>1079</td>\n",
       "      <td>2023-01-01 18:00:00</td>\n",
       "    </tr>\n",
       "    <tr>\n",
       "      <th>68</th>\n",
       "      <td>CAMP1004</td>\n",
       "      <td>CLK69</td>\n",
       "      <td>1000</td>\n",
       "      <td>2023-01-03 20:00:00</td>\n",
       "    </tr>\n",
       "  </tbody>\n",
       "</table>\n",
       "<p>100 rows × 4 columns</p>\n",
       "</div>"
      ],
      "text/plain": [
       "   campaign_id click_id  user_id           click_time\n",
       "99    CAMP1001   CLK100     1044  2023-01-05 03:00:00\n",
       "38    CAMP1001    CLK39     1010  2023-01-02 14:00:00\n",
       "31    CAMP1001    CLK32     1070  2023-01-02 07:00:00\n",
       "30    CAMP1001    CLK31     1088  2023-01-02 06:00:00\n",
       "57    CAMP1001    CLK58     1036  2023-01-03 09:00:00\n",
       "..         ...      ...      ...                  ...\n",
       "28    CAMP1004    CLK29     1044  2023-01-02 04:00:00\n",
       "76    CAMP1004    CLK77     1089  2023-01-04 04:00:00\n",
       "77    CAMP1004    CLK78     1041  2023-01-04 05:00:00\n",
       "18    CAMP1004    CLK19     1079  2023-01-01 18:00:00\n",
       "68    CAMP1004    CLK69     1000  2023-01-03 20:00:00\n",
       "\n",
       "[100 rows x 4 columns]"
      ]
     },
     "execution_count": 54,
     "metadata": {},
     "output_type": "execute_result"
    }
   ],
   "source": [
    "cliks=pd.read_csv(\"clicks.csv\")\n",
    "install= pd.read_csv(\"installs.csv\")\n",
    "\n",
    "cliks.sort_values(by=\"campaign_id\")"
   ]
  },
  {
   "cell_type": "code",
   "execution_count": 61,
   "metadata": {},
   "outputs": [
    {
     "data": {
      "text/plain": [
       "60"
      ]
     },
     "execution_count": 61,
     "metadata": {},
     "output_type": "execute_result"
    }
   ],
   "source": [
    "install.click_id.nunique()"
   ]
  },
  {
   "cell_type": "code",
   "execution_count": 52,
   "metadata": {},
   "outputs": [],
   "source": [
    "merged=pd.merge(cliks, install, how='left', on='click_id', suffixes=('_click', '_install'))"
   ]
  },
  {
   "cell_type": "code",
   "execution_count": 53,
   "metadata": {},
   "outputs": [
    {
     "data": {
      "text/html": [
       "<div>\n",
       "<style scoped>\n",
       "    .dataframe tbody tr th:only-of-type {\n",
       "        vertical-align: middle;\n",
       "    }\n",
       "\n",
       "    .dataframe tbody tr th {\n",
       "        vertical-align: top;\n",
       "    }\n",
       "\n",
       "    .dataframe thead th {\n",
       "        text-align: right;\n",
       "    }\n",
       "</style>\n",
       "<table border=\"1\" class=\"dataframe\">\n",
       "  <thead>\n",
       "    <tr style=\"text-align: right;\">\n",
       "      <th></th>\n",
       "      <th>campaign_id_click</th>\n",
       "      <th>click_id</th>\n",
       "      <th>user_id_click</th>\n",
       "      <th>click_time</th>\n",
       "      <th>campaign_id_install</th>\n",
       "      <th>user_id_install</th>\n",
       "      <th>install_time</th>\n",
       "    </tr>\n",
       "  </thead>\n",
       "  <tbody>\n",
       "    <tr>\n",
       "      <th>0</th>\n",
       "      <td>CAMP1003</td>\n",
       "      <td>CLK1</td>\n",
       "      <td>1062</td>\n",
       "      <td>2023-01-01 00:00:00</td>\n",
       "      <td>NaN</td>\n",
       "      <td>NaN</td>\n",
       "      <td>NaN</td>\n",
       "    </tr>\n",
       "    <tr>\n",
       "      <th>1</th>\n",
       "      <td>CAMP1004</td>\n",
       "      <td>CLK2</td>\n",
       "      <td>1017</td>\n",
       "      <td>2023-01-01 01:00:00</td>\n",
       "      <td>NaN</td>\n",
       "      <td>NaN</td>\n",
       "      <td>NaN</td>\n",
       "    </tr>\n",
       "    <tr>\n",
       "      <th>2</th>\n",
       "      <td>CAMP1001</td>\n",
       "      <td>CLK3</td>\n",
       "      <td>1089</td>\n",
       "      <td>2023-01-01 02:00:00</td>\n",
       "      <td>NaN</td>\n",
       "      <td>NaN</td>\n",
       "      <td>NaN</td>\n",
       "    </tr>\n",
       "    <tr>\n",
       "      <th>3</th>\n",
       "      <td>CAMP1003</td>\n",
       "      <td>CLK4</td>\n",
       "      <td>1043</td>\n",
       "      <td>2023-01-01 03:00:00</td>\n",
       "      <td>CAMP1003</td>\n",
       "      <td>1043.0</td>\n",
       "      <td>1/1/2023 17:00</td>\n",
       "    </tr>\n",
       "    <tr>\n",
       "      <th>4</th>\n",
       "      <td>CAMP1003</td>\n",
       "      <td>CLK5</td>\n",
       "      <td>1033</td>\n",
       "      <td>2023-01-01 04:00:00</td>\n",
       "      <td>CAMP1003</td>\n",
       "      <td>1033.0</td>\n",
       "      <td>1/2/2023 21:00</td>\n",
       "    </tr>\n",
       "    <tr>\n",
       "      <th>...</th>\n",
       "      <td>...</td>\n",
       "      <td>...</td>\n",
       "      <td>...</td>\n",
       "      <td>...</td>\n",
       "      <td>...</td>\n",
       "      <td>...</td>\n",
       "      <td>...</td>\n",
       "    </tr>\n",
       "    <tr>\n",
       "      <th>95</th>\n",
       "      <td>CAMP1002</td>\n",
       "      <td>CLK96</td>\n",
       "      <td>1085</td>\n",
       "      <td>2023-01-04 23:00:00</td>\n",
       "      <td>CAMP1002</td>\n",
       "      <td>1085.0</td>\n",
       "      <td>1/6/2023 13:00</td>\n",
       "    </tr>\n",
       "    <tr>\n",
       "      <th>96</th>\n",
       "      <td>CAMP1002</td>\n",
       "      <td>CLK97</td>\n",
       "      <td>1027</td>\n",
       "      <td>2023-01-05 00:00:00</td>\n",
       "      <td>NaN</td>\n",
       "      <td>NaN</td>\n",
       "      <td>NaN</td>\n",
       "    </tr>\n",
       "    <tr>\n",
       "      <th>97</th>\n",
       "      <td>CAMP1004</td>\n",
       "      <td>CLK98</td>\n",
       "      <td>1065</td>\n",
       "      <td>2023-01-05 01:00:00</td>\n",
       "      <td>CAMP1004</td>\n",
       "      <td>1065.0</td>\n",
       "      <td>1/5/2023 21:00</td>\n",
       "    </tr>\n",
       "    <tr>\n",
       "      <th>98</th>\n",
       "      <td>CAMP1002</td>\n",
       "      <td>CLK99</td>\n",
       "      <td>1041</td>\n",
       "      <td>2023-01-05 02:00:00</td>\n",
       "      <td>CAMP1002</td>\n",
       "      <td>1041.0</td>\n",
       "      <td>1/6/2023 23:00</td>\n",
       "    </tr>\n",
       "    <tr>\n",
       "      <th>99</th>\n",
       "      <td>CAMP1001</td>\n",
       "      <td>CLK100</td>\n",
       "      <td>1044</td>\n",
       "      <td>2023-01-05 03:00:00</td>\n",
       "      <td>NaN</td>\n",
       "      <td>NaN</td>\n",
       "      <td>NaN</td>\n",
       "    </tr>\n",
       "  </tbody>\n",
       "</table>\n",
       "<p>100 rows × 7 columns</p>\n",
       "</div>"
      ],
      "text/plain": [
       "   campaign_id_click click_id  user_id_click           click_time  \\\n",
       "0           CAMP1003     CLK1           1062  2023-01-01 00:00:00   \n",
       "1           CAMP1004     CLK2           1017  2023-01-01 01:00:00   \n",
       "2           CAMP1001     CLK3           1089  2023-01-01 02:00:00   \n",
       "3           CAMP1003     CLK4           1043  2023-01-01 03:00:00   \n",
       "4           CAMP1003     CLK5           1033  2023-01-01 04:00:00   \n",
       "..               ...      ...            ...                  ...   \n",
       "95          CAMP1002    CLK96           1085  2023-01-04 23:00:00   \n",
       "96          CAMP1002    CLK97           1027  2023-01-05 00:00:00   \n",
       "97          CAMP1004    CLK98           1065  2023-01-05 01:00:00   \n",
       "98          CAMP1002    CLK99           1041  2023-01-05 02:00:00   \n",
       "99          CAMP1001   CLK100           1044  2023-01-05 03:00:00   \n",
       "\n",
       "   campaign_id_install  user_id_install    install_time  \n",
       "0                  NaN              NaN             NaN  \n",
       "1                  NaN              NaN             NaN  \n",
       "2                  NaN              NaN             NaN  \n",
       "3             CAMP1003           1043.0  1/1/2023 17:00  \n",
       "4             CAMP1003           1033.0  1/2/2023 21:00  \n",
       "..                 ...              ...             ...  \n",
       "95            CAMP1002           1085.0  1/6/2023 13:00  \n",
       "96                 NaN              NaN             NaN  \n",
       "97            CAMP1004           1065.0  1/5/2023 21:00  \n",
       "98            CAMP1002           1041.0  1/6/2023 23:00  \n",
       "99                 NaN              NaN             NaN  \n",
       "\n",
       "[100 rows x 7 columns]"
      ]
     },
     "execution_count": 53,
     "metadata": {},
     "output_type": "execute_result"
    }
   ],
   "source": [
    "merged"
   ]
  },
  {
   "cell_type": "code",
   "execution_count": null,
   "metadata": {},
   "outputs": [],
   "source": []
  },
  {
   "cell_type": "markdown",
   "metadata": {},
   "source": [
    "3. How would you use Python to automate a weekly reporting task that includes querying data, generating a chart, and emailing it?"
   ]
  },
  {
   "cell_type": "markdown",
   "metadata": {},
   "source": []
  }
 ],
 "metadata": {
  "kernelspec": {
   "display_name": "venv",
   "language": "python",
   "name": "python3"
  },
  "language_info": {
   "codemirror_mode": {
    "name": "ipython",
    "version": 3
   },
   "file_extension": ".py",
   "mimetype": "text/x-python",
   "name": "python",
   "nbconvert_exporter": "python",
   "pygments_lexer": "ipython3",
   "version": "3.11.2"
  }
 },
 "nbformat": 4,
 "nbformat_minor": 2
}
