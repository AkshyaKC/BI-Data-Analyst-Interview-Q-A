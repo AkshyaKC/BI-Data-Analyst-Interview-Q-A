{
 "cells": [
  {
   "cell_type": "markdown",
   "id": "31466ab5",
   "metadata": {},
   "source": [
    "Reverse a list manually (without .reverse() or slicing)."
   ]
  },
  {
   "cell_type": "code",
   "execution_count": 14,
   "id": "eab88cca",
   "metadata": {},
   "outputs": [],
   "source": [
    "list=[1, 'Asia', True, \"the biggest continent\"]\n",
    "\n",
    "# Manually reversing the list\n",
    "reverserd_list = []\n",
    "for i in range(len(list)-1,-1,-1):\n",
    "    reverserd_list.append(list[i])\n",
    "\n",
    "# Using slicing and the reverse() method\n",
    "reversed_list = list[::-1] # syntax for slicing is list[start:stop:step], step = -1 means takes the elements from end to start\n",
    "list.reverse() # using the reverse() method"
   ]
  },
  {
   "cell_type": "markdown",
   "id": "79283b02",
   "metadata": {},
   "source": [
    "Convert a mixed string like “abc123xyz” to uppercase without using .upper()."
   ]
  },
  {
   "cell_type": "code",
   "execution_count": 19,
   "id": "f1f9dc39",
   "metadata": {},
   "outputs": [
    {
     "name": "stdout",
     "output_type": "stream",
     "text": [
      "ABC123XYZ\n"
     ]
    }
   ],
   "source": [
    "str = \"abc123xyz\"\n",
    "result = \"\"\n",
    "for char in str:\n",
    "    if 'a' <= char <= 'z':             # Convert lowercase to uppercase by subtracting 32 from its Unicode code point\n",
    "        result += chr(ord(char) - 32)\n",
    "    else:                              # Leave non-lowercase characters unchanged\n",
    "        result += char\n",
    "print(result)\n",
    "\n",
    "# Using .upper() method\n",
    "result2 = str.upper()"
   ]
  },
  {
   "cell_type": "markdown",
   "id": "b289e810",
   "metadata": {},
   "source": [
    "Extract keys from a dictionary where values are even."
   ]
  },
  {
   "cell_type": "code",
   "execution_count": 22,
   "id": "975c511e",
   "metadata": {},
   "outputs": [
    {
     "data": {
      "text/plain": [
       "['a', 'c']"
      ]
     },
     "execution_count": 22,
     "metadata": {},
     "output_type": "execute_result"
    }
   ],
   "source": [
    "my_dict = {'a': 4, 'b': 7, 'c': 10, 'd': 3}\n",
    "\n",
    "even_keys = [key for key, value in my_dict.items() if value % 2 == 0]\n",
    "even_keys"
   ]
  },
  {
   "cell_type": "markdown",
   "id": "905867c2",
   "metadata": {},
   "source": [
    "Check if two strings are anagrams (*i.e., contain the same characters in any order*) using a custom function."
   ]
  },
  {
   "cell_type": "code",
   "execution_count": 26,
   "id": "118063c4",
   "metadata": {},
   "outputs": [
    {
     "name": "stdout",
     "output_type": "stream",
     "text": [
      "True\n",
      "False\n"
     ]
    }
   ],
   "source": [
    "def are_anagrams(str1, str2):\n",
    "    # If lengths differ, they cannot be anagrams\n",
    "    if len(str1) != len(str2):\n",
    "        return False\n",
    "\n",
    "    # Create dictionaries to count character frequencies\n",
    "    count1 = {}\n",
    "    count2 = {}\n",
    "\n",
    "    for char in str1:\n",
    "        count1[char] = count1.get(char, 0) + 1\n",
    "\n",
    "    for char in str2:\n",
    "        count2[char] = count2.get(char, 0) + 1\n",
    "\n",
    "    # Compare the two frequency dictionaries\n",
    "    return count1 == count2\n",
    "\n",
    "\n",
    "print(are_anagrams(\"listen\", \"silent\"))\n",
    "print(are_anagrams(\"india\", \"nepal\"))"
   ]
  },
  {
   "cell_type": "markdown",
   "id": "a46e2d05",
   "metadata": {},
   "source": [
    "Create a frequency map for each character in a string."
   ]
  },
  {
   "cell_type": "code",
   "execution_count": 32,
   "id": "927fe643",
   "metadata": {},
   "outputs": [
    {
     "name": "stdout",
     "output_type": "stream",
     "text": [
      "{'p': 3, 'u': 1, 'y': 1}\n"
     ]
    }
   ],
   "source": [
    "def frequency_map(s):\n",
    "    counts = {}\n",
    "    for char in s:\n",
    "        counts[char] = counts.get(char, 0) + 1\n",
    "    return counts\n",
    "\n",
    "print(frequency_map(\"puppy\"))"
   ]
  },
  {
   "cell_type": "code",
   "execution_count": null,
   "id": "270af469",
   "metadata": {},
   "outputs": [],
   "source": []
  }
 ],
 "metadata": {
  "kernelspec": {
   "display_name": "venv",
   "language": "python",
   "name": "python3"
  },
  "language_info": {
   "codemirror_mode": {
    "name": "ipython",
    "version": 3
   },
   "file_extension": ".py",
   "mimetype": "text/x-python",
   "name": "python",
   "nbconvert_exporter": "python",
   "pygments_lexer": "ipython3",
   "version": "3.11.2"
  }
 },
 "nbformat": 4,
 "nbformat_minor": 5
}
