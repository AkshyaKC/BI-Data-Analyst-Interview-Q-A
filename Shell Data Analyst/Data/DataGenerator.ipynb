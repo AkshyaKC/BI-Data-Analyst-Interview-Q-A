{
 "cells": [
  {
   "cell_type": "code",
   "execution_count": 4,
   "metadata": {},
   "outputs": [],
   "source": [
    "import pandas as pd\n",
    "from datetime import datetime\n",
    "import random\n",
    "\n",
    "start_date = datetime(2023, 1, 1) \n",
    "end_date = datetime(2023, 12, 31)\n",
    "plant_ids = [101, 102, 103, 104, 105]\n",
    "\n",
    "# Generate date range\n",
    "date_range = pd.date_range(start=start_date, end=end_date)\n",
    "\n",
    "# Generate data for each PlantID on each day\n",
    "data = {\n",
    "    \"PlantID\": [],\n",
    "    \"Date\": [],\n",
    "    \"Output\": [],\n",
    "}\n",
    "\n",
    "for plant_id in plant_ids:\n",
    "    for date in date_range:\n",
    "        data[\"PlantID\"].append(plant_id)\n",
    "        data[\"Date\"].append(date.date())\n",
    "        data[\"Output\"].append(random.randint(50, 500))  # Random output between 50 and 500\n",
    "\n",
    "# Create DataFrame\n",
    "production_df = pd.DataFrame(data)\n",
    "\n",
    "# Save to CSV\n",
    "file_path = \"daily_production_data.csv\"\n",
    "production_df.to_csv(file_path, index=False)"
   ]
  }
 ],
 "metadata": {
  "kernelspec": {
   "display_name": "venv",
   "language": "python",
   "name": "python3"
  },
  "language_info": {
   "codemirror_mode": {
    "name": "ipython",
    "version": 3
   },
   "file_extension": ".py",
   "mimetype": "text/x-python",
   "name": "python",
   "nbconvert_exporter": "python",
   "pygments_lexer": "ipython3",
   "version": "3.11.5"
  }
 },
 "nbformat": 4,
 "nbformat_minor": 2
}
